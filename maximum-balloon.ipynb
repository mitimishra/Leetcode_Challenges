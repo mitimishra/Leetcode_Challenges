{
 "cells": [
  {
   "cell_type": "code",
   "execution_count": 39,
   "source": [
    "string1 = input (\"Enter string in lower case:\")"
   ],
   "outputs": [],
   "metadata": {}
  },
  {
   "cell_type": "code",
   "execution_count": 40,
   "source": [
    "print(string1)"
   ],
   "outputs": [
    {
     "output_type": "stream",
     "name": "stdout",
     "text": [
      "balloonbhbdgvgbalbsbsloonsjnjscdloondcndchbballlllbhbacll\n"
     ]
    }
   ],
   "metadata": {}
  },
  {
   "cell_type": "code",
   "execution_count": 41,
   "source": [
    "# Printing type of input value\r\n",
    "print (\"type of number\", type(string1))"
   ],
   "outputs": [
    {
     "output_type": "stream",
     "name": "stdout",
     "text": [
      "type of number <class 'str'>\n"
     ]
    }
   ],
   "metadata": {}
  },
  {
   "cell_type": "code",
   "execution_count": 42,
   "source": [
    "balloon_list = ['b','a','l','o','n']"
   ],
   "outputs": [],
   "metadata": {}
  },
  {
   "cell_type": "code",
   "execution_count": 43,
   "source": [
    "from collections import Counter"
   ],
   "outputs": [],
   "metadata": {}
  },
  {
   "cell_type": "code",
   "execution_count": 44,
   "source": [
    "freq_wrd = Counter(string1)"
   ],
   "outputs": [],
   "metadata": {}
  },
  {
   "cell_type": "code",
   "execution_count": 45,
   "source": [
    "freq_wrd"
   ],
   "outputs": [
    {
     "output_type": "execute_result",
     "data": {
      "text/plain": [
       "Counter({'b': 10,\n",
       "         'a': 4,\n",
       "         'l': 12,\n",
       "         'o': 6,\n",
       "         'n': 5,\n",
       "         'h': 3,\n",
       "         'd': 4,\n",
       "         'g': 2,\n",
       "         'v': 1,\n",
       "         's': 4,\n",
       "         'j': 2,\n",
       "         'c': 4})"
      ]
     },
     "metadata": {},
     "execution_count": 45
    }
   ],
   "metadata": {}
  },
  {
   "cell_type": "code",
   "execution_count": 46,
   "source": [
    "for i in freq_wrd:\r\n",
    "    if i in balloon_list:\r\n",
    "        print(i, freq_wrd[i])"
   ],
   "outputs": [
    {
     "output_type": "stream",
     "name": "stdout",
     "text": [
      "b 10\n",
      "a 4\n",
      "l 12\n",
      "o 6\n",
      "n 5\n"
     ]
    }
   ],
   "metadata": {}
  },
  {
   "cell_type": "code",
   "execution_count": 47,
   "source": [
    "balloon_dict = {}\r\n",
    "for i in freq_wrd:\r\n",
    "    if i in balloon_list:\r\n",
    "        balloon_dict[i] = freq_wrd[i]\r\n",
    "balloon_dict"
   ],
   "outputs": [
    {
     "output_type": "execute_result",
     "data": {
      "text/plain": [
       "{'b': 10, 'a': 4, 'l': 12, 'o': 6, 'n': 5}"
      ]
     },
     "metadata": {},
     "execution_count": 47
    }
   ],
   "metadata": {}
  },
  {
   "cell_type": "code",
   "execution_count": 48,
   "source": [
    "new_balloon_dic = {}\r\n",
    "for i in balloon_dict:\r\n",
    "    if i == 'l':\r\n",
    "        new_balloon_dic[i] = int(balloon_dict[i]/2)\r\n",
    "    elif i == 'o':\r\n",
    "        new_balloon_dic[i] = int(balloon_dict[i]/2)\r\n",
    "    else:\r\n",
    "        new_balloon_dic[i] = balloon_dict[i]\r\n"
   ],
   "outputs": [],
   "metadata": {}
  },
  {
   "cell_type": "code",
   "execution_count": 49,
   "source": [
    "new_balloon_dic"
   ],
   "outputs": [
    {
     "output_type": "execute_result",
     "data": {
      "text/plain": [
       "{'b': 10, 'a': 4, 'l': 6, 'o': 3, 'n': 5}"
      ]
     },
     "metadata": {},
     "execution_count": 49
    }
   ],
   "metadata": {}
  },
  {
   "cell_type": "code",
   "execution_count": 50,
   "source": [
    "# maximumBalloon will the min frequency key in new_balloon_dic\r\n",
    "min_key = min(new_balloon_dic.keys(), key=(lambda k: new_balloon_dic[k]))\r\n",
    "# or another code ----- min(new_balloon_dic, key = new_balloon_dic.get)"
   ],
   "outputs": [],
   "metadata": {}
  },
  {
   "cell_type": "code",
   "execution_count": 51,
   "source": [
    "print('Maximum Number of Balloon can be formed from the given String is ', new_balloon_dic[min_key])"
   ],
   "outputs": [
    {
     "output_type": "stream",
     "name": "stdout",
     "text": [
      "Maximum Number of Balloon can be formed from the given String is  3\n"
     ]
    }
   ],
   "metadata": {}
  },
  {
   "cell_type": "code",
   "execution_count": null,
   "source": [],
   "outputs": [],
   "metadata": {}
  }
 ],
 "metadata": {
  "kernelspec": {
   "display_name": "Python 3",
   "language": "python",
   "name": "python3"
  },
  "language_info": {
   "name": "python",
   "version": "3.7.3",
   "mimetype": "text/x-python",
   "codemirror_mode": {
    "name": "ipython",
    "version": 3
   },
   "pygments_lexer": "ipython3",
   "nbconvert_exporter": "python",
   "file_extension": ".py"
  }
 },
 "nbformat": 4,
 "nbformat_minor": 2
}