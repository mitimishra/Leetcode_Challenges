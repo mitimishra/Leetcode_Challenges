{
 "cells": [
  {
   "cell_type": "code",
   "execution_count": 66,
   "source": [
    "# taking two inputs at a time for a matrix\r\n",
    "m,n = [int(x) for x in input(\"Enter a two value: \").split()]\r\n",
    "print(\"Number of rows: \", m)\r\n",
    "print(\"Number of columns: \", n)\r\n",
    "print()"
   ],
   "outputs": [
    {
     "output_type": "stream",
     "name": "stdout",
     "text": [
      "Number of rows:  5\n",
      "Number of columns:  5\n",
      "\n"
     ]
    }
   ],
   "metadata": {}
  },
  {
   "cell_type": "code",
   "execution_count": 67,
   "source": [
    "import numpy as np\r\n",
    "\r\n",
    "# Creating Matrix of random numbers of size (m,n)\r\n",
    "matrix = np.random.randint(10, size=(m,n))\r\n",
    "matrix"
   ],
   "outputs": [
    {
     "output_type": "execute_result",
     "data": {
      "text/plain": [
       "array([[5, 0, 7, 4, 6],\n",
       "       [0, 6, 9, 4, 2],\n",
       "       [7, 5, 3, 8, 6],\n",
       "       [6, 7, 5, 9, 3],\n",
       "       [2, 1, 2, 7, 1]])"
      ]
     },
     "metadata": {},
     "execution_count": 67
    }
   ],
   "metadata": {}
  },
  {
   "cell_type": "code",
   "execution_count": 68,
   "source": [
    "print(matrix[0])"
   ],
   "outputs": [
    {
     "output_type": "stream",
     "name": "stdout",
     "text": [
      "[5 0 7 4 6]\n"
     ]
    }
   ],
   "metadata": {}
  },
  {
   "cell_type": "code",
   "execution_count": 69,
   "source": [
    "print([row[1] for row in matrix])"
   ],
   "outputs": [
    {
     "output_type": "stream",
     "name": "stdout",
     "text": [
      "[0, 6, 5, 7, 1]\n"
     ]
    }
   ],
   "metadata": {}
  },
  {
   "cell_type": "code",
   "execution_count": 70,
   "source": [
    "# Shape and size of the matrix\r\n",
    "print(\"Shape of the Matrix\", matrix.shape)\r\n",
    "print(\"Size of the Matrix\",matrix.size)"
   ],
   "outputs": [
    {
     "output_type": "stream",
     "name": "stdout",
     "text": [
      "Shape of the Matrix (5, 5)\n",
      "Size of the Matrix 25\n"
     ]
    }
   ],
   "metadata": {}
  },
  {
   "cell_type": "code",
   "execution_count": 71,
   "source": [
    "# height and width of the matrix\r\n",
    "matrix_height = len(matrix)\r\n",
    "matrix_width= len(matrix[0])"
   ],
   "outputs": [],
   "metadata": {}
  },
  {
   "cell_type": "code",
   "execution_count": 72,
   "source": [
    "# Intialization of row_begin, row_end, col_begin, col_end\r\n",
    "row_begin = 0\r\n",
    "row_end = matrix_height - 1\r\n",
    "col_begin = 0\r\n",
    "col_end = matrix_width - 1"
   ],
   "outputs": [],
   "metadata": {}
  },
  {
   "cell_type": "code",
   "execution_count": 73,
   "source": [
    "#Initializing list of spiral matrix\r\n",
    "spiral_matrix = []"
   ],
   "outputs": [],
   "metadata": {}
  },
  {
   "cell_type": "code",
   "execution_count": 74,
   "source": [
    "# Intializing Direction variable direction left to right is 0 and top to bottom 1 and right to left 2 down to up 3\r\n",
    "direction = 0"
   ],
   "outputs": [],
   "metadata": {}
  },
  {
   "cell_type": "code",
   "execution_count": 75,
   "source": [
    "if matrix_height == 0 | matrix_width == 0:\r\n",
    "    print(spiral_matrix)"
   ],
   "outputs": [],
   "metadata": {}
  },
  {
   "cell_type": "code",
   "execution_count": 76,
   "source": [
    "while (row_begin <= row_end & col_begin <= col_end):\r\n",
    "\r\n",
    "    # Traversing right and increasing row_begin\r\n",
    "    for i in range(col_begin, col_end+1):\r\n",
    "        spiral_matrix.append(matrix[row_begin][i])\r\n",
    "                \r\n",
    "    row_begin = row_begin + 1\r\n",
    "\r\n",
    "\r\n",
    "    # Traversing down and decrementing col_end \r\n",
    "      \r\n",
    "    for i in  range(row_begin, row_end +1):\r\n",
    "        spiral_matrix.append(matrix[i][col_end])\r\n",
    "   \r\n",
    "    col_end = col_end - 1\r\n",
    "\r\n",
    "    # The only tricky part here is when we traverse left or up, we have to make sure \r\n",
    "    # whether that row or column still exists to prevent duplicates\r\n",
    "    # Make sure that row exists and traverse left and decrement rowEnd\r\n",
    "    if(row_begin <= row_end):\r\n",
    "\r\n",
    "        # print(\"Hi\")\r\n",
    "        for i in range(col_end, col_begin-1 , -1):\r\n",
    "            spiral_matrix.append(matrix[row_end][i])\r\n",
    "\r\n",
    "        \r\n",
    "    row_end = row_end - 1\r\n",
    "\r\n",
    "\r\n",
    "    # Make sure that column exists and traverse up and increment colBegin\r\n",
    "    if(col_begin <= col_end):\r\n",
    "\r\n",
    "        for i in range(row_end, row_begin-1, -1):\r\n",
    "            spiral_matrix.append(matrix[i][col_begin])\r\n",
    "\r\n",
    "    \r\n",
    "    col_begin = col_begin+1\r\n",
    "\r\n",
    "\r\n",
    "    print(spiral_matrix)\r\n",
    "    print(row_begin)\r\n",
    "    print(row_end)\r\n",
    "    print(col_begin)\r\n",
    "    print(col_end)"
   ],
   "outputs": [
    {
     "output_type": "stream",
     "name": "stdout",
     "text": [
      "[5, 0, 7, 4, 6, 2, 6, 3, 1, 7, 2, 1, 2, 6, 7, 0]\n",
      "1\n",
      "3\n",
      "1\n",
      "3\n",
      "[5, 0, 7, 4, 6, 2, 6, 3, 1, 7, 2, 1, 2, 6, 7, 0, 6, 9, 4, 8, 9, 5, 7, 5]\n",
      "2\n",
      "2\n",
      "2\n",
      "2\n",
      "[5, 0, 7, 4, 6, 2, 6, 3, 1, 7, 2, 1, 2, 6, 7, 0, 6, 9, 4, 8, 9, 5, 7, 5, 3]\n",
      "3\n",
      "1\n",
      "3\n",
      "1\n"
     ]
    }
   ],
   "metadata": {}
  },
  {
   "cell_type": "code",
   "execution_count": null,
   "source": [],
   "outputs": [],
   "metadata": {}
  }
 ],
 "metadata": {
  "orig_nbformat": 4,
  "kernelspec": {
   "name": "python3",
   "display_name": "Python 3",
   "language": "python"
  },
  "language_info": {
   "name": "python",
   "version": "3.7.3",
   "mimetype": "text/x-python",
   "codemirror_mode": {
    "name": "ipython",
    "version": 3
   },
   "pygments_lexer": "ipython3",
   "nbconvert_exporter": "python",
   "file_extension": ".py"
  }
 },
 "nbformat": 4,
 "nbformat_minor": 2
}